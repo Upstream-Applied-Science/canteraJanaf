{
 "cells": [
  {
   "cell_type": "markdown",
   "metadata": {},
   "source": [
    "OpenFOAM uses the JANAF model as one of the (most commonly used) thermodynamics models. The specific heat capacity is modelled as a polynomial of temperature, as described in https://ntrs.nasa.gov/archive/nasa/casi.ntrs.nasa.gov/19940013151.pdf:"
   ]
  },
  {
   "cell_type": "markdown",
   "metadata": {},
   "source": [
    "$$\\frac{C_{p}(T)}{R}=\\sum_{i=1}^{r}a_{i}T^{q_{i}}$$                "
   ]
  },
  {
   "cell_type": "markdown",
   "metadata": {},
   "source": [
    "where $q_i=i-1$"
   ]
  },
  {
   "cell_type": "markdown",
   "metadata": {},
   "source": [
    "In the OpenFoam approach $r=5$ the polynomial coefficients $a_i$ are specified for two temperature ranges (low -> common and common -> high) along with two additional values $a_6$ and $a_7$ which are enthalpy and entropy integration coefficients, given by:"
   ]
  },
  {
   "cell_type": "markdown",
   "metadata": {},
   "source": [
    "$$a_{6}=\\frac{H(T)-\\int{C_{p}(T)dt}}{R}$$"
   ]
  },
  {
   "cell_type": "markdown",
   "metadata": {},
   "source": [
    "$$ a_{7}=\\frac{S(T)}{R}-\\int{\\frac{C_{p}(T)}{RT}dT}$$"
   ]
  },
  {
   "cell_type": "markdown",
   "metadata": {},
   "source": [
    "We can use Cantera (https://cantera.org/tutorials/index.html for background) to generate $a_{i}$ up to $i=7$ for a specified mixture. First lets import cantera, numpy, math and matplotlib."
   ]
  },
  {
   "cell_type": "code",
   "execution_count": 31,
   "metadata": {},
   "outputs": [],
   "source": [
    "import cantera as ct\n",
    "import numpy as np\n",
    "import math\n",
    "import matplotlib.pyplot as plt"
   ]
  },
  {
   "cell_type": "markdown",
   "metadata": {},
   "source": [
    "Now lets define a simple function that takes a Cantera composite phase object, a temperature and pressure and returns the specific heat for that object at those conditions:"
   ]
  },
  {
   "cell_type": "code",
   "execution_count": 6,
   "metadata": {},
   "outputs": [],
   "source": [
    "def cp(cant,t,p,sol):\n",
    "    cant.TPX=t,p,sol\n",
    "    return(cant.cp_mass)"
   ]
  },
  {
   "cell_type": "markdown",
   "metadata": {},
   "source": [
    "We can then define a function to generate the polynomial coefficients and enthalpy and entropy offsets over the two ranges defined by the three temperatures:"
   ]
  },
  {
   "cell_type": "code",
   "execution_count": 113,
   "metadata": {},
   "outputs": [],
   "source": [
    "def janafPolynomials(p,sol,defn,Tlow,Tcommon,Thigh,deltaT):\n",
    "    '''\n",
    "    p - pressure\n",
    "    sol - solution description\n",
    "    defn - phase definition, species and reactions definition file\n",
    "    t* - low, common, high temperatures\n",
    "    deltat - temperature step between values\n",
    "    '''\n",
    "    #define cantera model\n",
    "    gas = ct.Solution(defn);\n",
    "    \n",
    "    #calculate polynomials\n",
    "    T_low=np.arange(Tlow,Tcommon,deltaT)\n",
    "    T_high=np.arange(Tcommon,Thigh,deltaT)\n",
    "    \n",
    "    cp_low=[cp(gas,x,p,sol) for x in T_low]\n",
    "    cp_high=[cp(gas,x,p,sol) for x in T_high]\n",
    "    \n",
    "    cp_low_polynomials = np.polyfit(T_low, cp_low, 4)\n",
    "    cp_high_polynomials = np.polyfit(T_high, cp_high, 4)\n",
    "    \n",
    "    #calculate integration constants\n",
    "    \n",
    "    #get enthalpy and entropy at 298.15K\n",
    "    T_ref=298.15\n",
    "    gas.TPX=T_ref,p,sol\n",
    "    h=gas.enthalpy_mass\n",
    "    S=gas.entropy_mass\n",
    "    \n",
    "    R=ct.gas_constant/gas.mean_molecular_weight\n",
    "    \n",
    "    #reverse order and divide by R (np.ployfit has calculated coeffs*R so we must divide by R to get just the coeffs)\n",
    "    cp_low_poly_rev=np.flip(cp_low_polynomials)/R\n",
    "    cp_high_poly_rev=np.flip(cp_high_polynomials)/R\n",
    "    \n",
    "    h_off_low=h/R-np.sum(np.array([cp_low_poly_rev[i]*T_ref**(i+1)/(i+1) for i in range(len(cp_low_poly_rev))]))\n",
    "    h_off_high=h/R-np.sum(np.array([cp_high_poly_rev[i]*T_ref**(i+1)/(i+1) for i in range(len(cp_high_poly_rev))]))\n",
    "    \n",
    "    s_off_low=S/R-np.sum(np.array([cp_low_poly_rev[i]*T_ref**(i)/(i) for i in range(1,len(cp_low_poly_rev))]))-cp_low_poly_rev[0]*math.log(T_ref)\n",
    "    s_off_high=S/R-np.sum(np.array([cp_high_poly_rev[i]*T_ref**(i)/(i) for i in range(1,len(cp_high_poly_rev))]))-cp_high_poly_rev[0]*math.log(T_ref)\n",
    "        \n",
    "    return (cp_low_poly_rev, cp_high_poly_rev, h_off_low, h_off_high, s_off_low, s_off_high)"
   ]
  },
  {
   "cell_type": "markdown",
   "metadata": {},
   "source": [
    "Using the 'gri30.cti' the GRI- Mech 3.0, the 53-species, 325-reaction natural gas combustion mechanism (http://combustion.berkeley.edu/gri-mech/) we can run tests to compare to the values used in one of the OpenFoam 7 reactingFoam tuturials (https://github.com/OpenFOAM/OpenFOAM-7/blob/master/tutorials/combustion/reactingFoam/RAS/SandiaD_LTS/constant/thermo.compressibleGasGRI). Using OH as an initial example:"
   ]
  },
  {
   "cell_type": "code",
   "execution_count": 99,
   "metadata": {},
   "outputs": [],
   "source": [
    "cpl,cph,h_l,h_h,s_l,s_h=janafPolynomials(101325,'OH:1','gri30.cti',200,1000,3500,100)"
   ]
  },
  {
   "cell_type": "markdown",
   "metadata": {},
   "source": [
    "From our model here:"
   ]
  },
  {
   "cell_type": "code",
   "execution_count": 100,
   "metadata": {},
   "outputs": [
    {
     "name": "stdout",
     "output_type": "stream",
     "text": [
      "highCpCoeffs:  [ 3.09288760e+00  5.48429842e-04  1.26505142e-07 -8.79461305e-11\n",
      "  1.17412349e-14] 3784.8723868116076 4.308265174725886\n",
      "lowCpCoeffs:  [ 3.99201543e+00 -2.40131752e-03  4.61793841e-06 -3.88113333e-09\n",
      "  1.36411470e-12] 3615.08056 -0.10392545799999908\n"
     ]
    }
   ],
   "source": [
    "print('highCpCoeffs: ',cph, h_h, s_h)\n",
    "print('lowCpCoeffs: ',cpl, h_l, s_l)"
   ]
  },
  {
   "cell_type": "markdown",
   "metadata": {},
   "source": [
    "Compared to those from the OpenFoam example:"
   ]
  },
  {
   "cell_type": "markdown",
   "metadata": {},
   "source": [
    "highCpCoeffs    ( 3.09288767 0.000548429716 1.26505228e-07 -8.79461556e-11 1.17412376e-14 3858.657 4.4766961 )\n",
    "\n",
    "lowCpCoeffs     ( 3.99201543 -0.00240131752 4.61793841e-06 -3.88113333e-09 1.3641147e-12 3615.08056 -0.103925458 )"
   ]
  },
  {
   "cell_type": "markdown",
   "metadata": {},
   "source": [
    "The low coefficients are in exact agreement with some variation in the high coefficients. The variability is due to differences in high temperature data between sources. For example, switching to the 'gri30_highT.cti' Cantera model, affects the high temperature coefficients significantly, leaving the lows unchanged."
   ]
  },
  {
   "cell_type": "code",
   "execution_count": 110,
   "metadata": {},
   "outputs": [],
   "source": [
    "cpl,cph,h_l,h_h,s_l,s_h=janafPolynomials(101325,'OH:1','gri30_highT.cti',200,1000,6000,100)"
   ]
  },
  {
   "cell_type": "code",
   "execution_count": 111,
   "metadata": {},
   "outputs": [
    {
     "name": "stdout",
     "output_type": "stream",
     "text": [
      "highCpCoeffs:  [ 2.83864608e+00  1.10725585e-03 -2.93914972e-07  4.20524236e-11\n",
      " -2.42169085e-15] 3839.3005911351506 5.607782670373503\n",
      "lowCpCoeffs:  [ 3.99201543e+00 -2.40131752e-03  4.61793841e-06 -3.88113333e-09\n",
      "  1.36411470e-12] 3615.08056 -0.10392545799999908\n"
     ]
    }
   ],
   "source": [
    "print('highCpCoeffs: ',cph, h_h, s_h)\n",
    "print('lowCpCoeffs: ',cpl, h_l, s_l)"
   ]
  }
 ],
 "metadata": {
  "kernelspec": {
   "display_name": "Python 3",
   "language": "python",
   "name": "python3"
  },
  "language_info": {
   "codemirror_mode": {
    "name": "ipython",
    "version": 3
   },
   "file_extension": ".py",
   "mimetype": "text/x-python",
   "name": "python",
   "nbconvert_exporter": "python",
   "pygments_lexer": "ipython3",
   "version": "3.6.9"
  }
 },
 "nbformat": 4,
 "nbformat_minor": 4
}
